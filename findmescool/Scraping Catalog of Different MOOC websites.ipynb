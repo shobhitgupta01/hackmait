{
 "cells": [
  {
   "cell_type": "code",
   "execution_count": null,
   "metadata": {
    "collapsed": true
   },
   "outputs": [],
   "source": [
    "## Scraping Coursera Catalog"
   ]
  },
  {
   "cell_type": "code",
   "execution_count": 22,
   "metadata": {
    "collapsed": true
   },
   "outputs": [],
   "source": [
    "import json \n",
    "import requests\n",
    "import urllib.request as urllib\n",
    "import pandas as pd\n",
    "from sqlite3 import dbapi2 as sq3\n",
    "import os"
   ]
  },
  {
   "cell_type": "code",
   "execution_count": 2,
   "metadata": {
    "collapsed": false
   },
   "outputs": [
    {
     "name": "stdout",
     "output_type": "stream",
     "text": [
      "<class 'list'>\n"
     ]
    }
   ],
   "source": [
    "    url=\"https://api.coursera.org/api/courses.v1?start=\"+\"1\"+\"01&fields=startDate,categories,previewLink,description,photoUrl\"\n",
    "    data = urllib.urlopen(url).read()\n",
    "    dataDict = json.loads(data.decode('utf-8'))\n",
    "    print (type(dataDict['elements']))"
   ]
  },
  {
   "cell_type": "code",
   "execution_count": 25,
   "metadata": {
    "collapsed": false
   },
   "outputs": [
    {
     "name": "stdout",
     "output_type": "stream",
     "text": [
      "Pages scraped 1\n",
      "Pages scraped 2\n",
      "Pages scraped 3\n",
      "Pages scraped 4\n",
      "Pages scraped 5\n",
      "Pages scraped 6\n",
      "Pages scraped 7\n",
      "Pages scraped 8\n",
      "Pages scraped 9\n",
      "Pages scraped 10\n",
      "Pages scraped 11\n",
      "Pages scraped 12\n",
      "Pages scraped 13\n",
      "Pages scraped 14\n",
      "Pages scraped 15\n",
      "Pages scraped 16\n",
      "Pages scraped 17\n",
      "Pages scraped 18\n",
      "Pages scraped 19\n"
     ]
    }
   ],
   "source": [
    "i=0;\n",
    "coursera=[];\n",
    "while 1:    \n",
    "    url=\"https://api.coursera.org/api/courses.v1?start=\"+str(i)+\"01&fields=startDate,categories,previewLink,description,photoUrl\"\n",
    "    try:\n",
    "        data = urllib.urlopen(url).read()\n",
    "    except URLError as e:\n",
    "        continue\n",
    "    dataDict = json.loads(data.decode('utf-8'))\n",
    "    with open('data.txt', 'a') as outfile:\n",
    "        json.dump(dataDict, outfile)\n",
    "    if(dataDict['elements'] == []):\n",
    "        break\n",
    "    coursera=coursera+dataDict['elements']\n",
    "    i=i+1\n",
    "    print (\"Pages scraped\",i)"
   ]
  },
  {
   "cell_type": "code",
   "execution_count": 5,
   "metadata": {
    "collapsed": false
   },
   "outputs": [
    {
     "name": "stdout",
     "output_type": "stream",
     "text": [
      "1825\n"
     ]
    }
   ],
   "source": [
    "print (len(coursera))"
   ]
  },
  {
   "cell_type": "code",
   "execution_count": 6,
   "metadata": {
    "collapsed": false
   },
   "outputs": [
    {
     "data": {
      "text/plain": [
       "dict_keys(['description', 'id', 'slug', 'name', 'categories', 'startDate', 'courseType', 'photoUrl'])"
      ]
     },
     "execution_count": 6,
     "metadata": {},
     "output_type": "execute_result"
    }
   ],
   "source": [
    "coursera[0].keys()"
   ]
  },
  {
   "cell_type": "code",
   "execution_count": 11,
   "metadata": {
    "collapsed": false
   },
   "outputs": [
    {
     "ename": "KeyError",
     "evalue": "'startDate'",
     "output_type": "error",
     "traceback": [
      "\u001b[1;31m---------------------------------------------------------------------------\u001b[0m",
      "\u001b[1;31mKeyError\u001b[0m                                  Traceback (most recent call last)",
      "\u001b[1;32m<ipython-input-11-68b7bc3676b9>\u001b[0m in \u001b[0;36m<module>\u001b[1;34m()\u001b[0m\n\u001b[1;32m----> 1\u001b[1;33m \u001b[0mstartDate\u001b[0m\u001b[1;33m=\u001b[0m\u001b[1;33m[\u001b[0m\u001b[0mm\u001b[0m\u001b[1;33m[\u001b[0m\u001b[1;34m'startDate'\u001b[0m\u001b[1;33m]\u001b[0m \u001b[1;32mfor\u001b[0m \u001b[0mm\u001b[0m \u001b[1;32min\u001b[0m \u001b[0mcoursera\u001b[0m\u001b[1;33m]\u001b[0m\u001b[1;33m\u001b[0m\u001b[0m\n\u001b[0m",
      "\u001b[1;32m<ipython-input-11-68b7bc3676b9>\u001b[0m in \u001b[0;36m<listcomp>\u001b[1;34m(.0)\u001b[0m\n\u001b[1;32m----> 1\u001b[1;33m \u001b[0mstartDate\u001b[0m\u001b[1;33m=\u001b[0m\u001b[1;33m[\u001b[0m\u001b[0mm\u001b[0m\u001b[1;33m[\u001b[0m\u001b[1;34m'startDate'\u001b[0m\u001b[1;33m]\u001b[0m \u001b[1;32mfor\u001b[0m \u001b[0mm\u001b[0m \u001b[1;32min\u001b[0m \u001b[0mcoursera\u001b[0m\u001b[1;33m]\u001b[0m\u001b[1;33m\u001b[0m\u001b[0m\n\u001b[0m",
      "\u001b[1;31mKeyError\u001b[0m: 'startDate'"
     ]
    }
   ],
   "source": [
    "startDate=[m['startDate'] for m in coursera]"
   ]
  },
  {
   "cell_type": "code",
   "execution_count": 14,
   "metadata": {
    "collapsed": false
   },
   "outputs": [
    {
     "name": "stdout",
     "output_type": "stream",
     "text": [
      "1825\n"
     ]
    }
   ],
   "source": [
    "startDate=[]\n",
    "for m in coursera:\n",
    "    try:\n",
    "        startDate.append(m['startDate'])\n",
    "    except KeyError as k:\n",
    "        startDate.append(None)\n",
    "print (len(startDate))"
   ]
  },
  {
   "cell_type": "code",
   "execution_count": 19,
   "metadata": {
    "collapsed": false
   },
   "outputs": [
    {
     "name": "stdout",
     "output_type": "stream",
     "text": [
      "                                 categories   courseType  \\\n",
      "0                      [infotech, business]  v2.ondemand   \n",
      "1                       [medicine, biology]  v2.ondemand   \n",
      "2  [arts, education, teacherpd, humanities]  v2.ondemand   \n",
      "3                       [physical, physics]  v2.ondemand   \n",
      "4                            [stats, cs-ai]  v2.ondemand   \n",
      "\n",
      "                                         description                      id  \\\n",
      "0  Gamification is the application of game elemen...  69Bku0KoEeWZtA4u62x6lQ   \n",
      "1  The vital signs – heart rate, blood pressure, ...  5zjIsJq-EeW_wArffOXkOw   \n",
      "2  Themes can provide a great structure and pedag...  v9CQdBkhEeWjrA6seF25aw   \n",
      "3  This is an introductory astronomy survey class...  QgmoVdT2EeSlhSIACx2EBw   \n",
      "4  Interested in increasing your knowledge of the...  KXOLVTovEeWnxw5wP_KHTw   \n",
      "\n",
      "                                                name  \\\n",
      "0                                       Gamification   \n",
      "1  Vital Signs: Understanding What the Body Is Te...   \n",
      "2                                 Modern Art & Ideas   \n",
      "3                              The Evolving Universe   \n",
      "4                           Introduction to Big Data   \n",
      "\n",
      "                                            photoUrl previewLink  \\\n",
      "0  https://d3njjcbhbojbot.cloudfront.net/api/util...         NaN   \n",
      "1  https://d3njjcbhbojbot.cloudfront.net/api/util...         NaN   \n",
      "2  https://d3njjcbhbojbot.cloudfront.net/api/util...         NaN   \n",
      "3  https://d3njjcbhbojbot.cloudfront.net/api/util...         NaN   \n",
      "4  https://d3njjcbhbojbot.cloudfront.net/api/util...         NaN   \n",
      "\n",
      "                slug     startDate  \n",
      "0       gamification  1.447096e+12  \n",
      "1        vital-signs  1.456818e+12  \n",
      "2   modern-art-ideas  1.439923e+12  \n",
      "3   evolvinguniverse  1.431662e+12  \n",
      "4  intro-to-big-data  1.442277e+12  \n"
     ]
    }
   ],
   "source": [
    "coursera=pd.DataFrame(coursera)\n",
    "print (coursera.head())"
   ]
  },
  {
   "cell_type": "code",
   "execution_count": 21,
   "metadata": {
    "collapsed": true
   },
   "outputs": [],
   "source": [
    "ourschema=\"\"\"\n",
    "DROP TABLE IF EXISTS \"coursera\";\n",
    "CREATE TABLE \"coursera\" (\n",
    "    \"description\" TEXT,\n",
    "    \"id\" INTEGER PRIMARY KEY  NOT NULL ,\n",
    "    \"slug\" VARCHAR,\n",
    "    \"name\" VARCHAR,\n",
    "    \"categories\" VARCHAR,\n",
    "    \"startDate\" INTEGER,\n",
    "    \"courseType\" VARCHAR,\n",
    "    \"photoUrl\" VARCHAR,\n",
    ");\n",
    "\"\"\""
   ]
  },
  {
   "cell_type": "code",
   "execution_count": 24,
   "metadata": {
    "collapsed": false
   },
   "outputs": [
    {
     "ename": "TypeError",
     "evalue": "                                             categories   courseType  \\\n0                                  [infotech, business]  v2.ondemand   \n1                                   [medicine, biology]  v2.ondemand   \n2              [arts, education, teacherpd, humanities]  v2.ondemand   \n3                                   [physical, physics]  v2.ondemand   \n4                                        [stats, cs-ai]  v2.ondemand   \n5                                                    []  v2.ondemand   \n6                                [education, teacherpd]   v1.session   \n7                                               [stats]  v2.ondemand   \n8                                           [cs-theory]  v2.capstone   \n9                                                    []  v2.ondemand   \n10    [health, business, stats, physics, music, ener...   v1.session   \n11                                       [infotech, ee]  v2.ondemand   \n12                                               [math]  v2.ondemand   \n13                                    [business, stats]  v2.ondemand   \n14                                              [music]   v1.session   \n15                                                   []  v2.ondemand   \n16                         [math, education, teacherpd]   v1.session   \n17                                      [music, health]  v2.ondemand   \n18                                                   []  v2.ondemand   \n19                                             [energy]  v2.ondemand   \n20                                             [health]  v2.ondemand   \n21                                                   []  v2.ondemand   \n22                                [economics, business]  v2.ondemand   \n23                                              [cs-ai]   v1.session   \n24                      [economics, humanities, socsci]   v1.session   \n25                                               [math]  v2.ondemand   \n26                                                   []  v2.ondemand   \n27                                          [cs-theory]   v1.session   \n28                                               [math]  v2.ondemand   \n29                                       [socsci, arts]  v2.ondemand   \n...                                                 ...          ...   \n1795                           [infotech, business, ee]  v2.ondemand   \n1796                                                 []  v2.capstone   \n1797                                   [cs-programming]   v1.session   \n1798                                  [humanities, law]   v1.session   \n1799                                                 []  v2.capstone   \n1800                                               [ee]  v2.ondemand   \n1801                                                 []  v2.ondemand   \n1802                      [education, stats, teacherpd]   v1.session   \n1803               [physical, biology, physics, energy]  v2.ondemand   \n1804  [math, biology, cs-theory, cs-programming, med...  v2.ondemand   \n1805                                                 []  v2.ondemand   \n1806                               [ee, music, physics]   v1.session   \n1807                          [medicine, math, biology]   v1.session   \n1808                                   [cs-programming]  v2.ondemand   \n1809                            [education, humanities]  v2.ondemand   \n1810                                                 []  v2.capstone   \n1811                         [medicine, health, socsci]   v1.session   \n1812                              [economics, business]  v2.ondemand   \n1813                                                 []  v2.ondemand   \n1814       [music, education, arts, socsci, humanities]   v1.session   \n1815                                                 []  v2.capstone   \n1816               [economics, math, humanities, cs-ai]   v1.session   \n1817  [math, biology, chemistry, energy, education, ...  v2.ondemand   \n1818          [humanities, business, education, socsci]   v1.session   \n1819                             [education, teacherpd]   v1.session   \n1820                                          [physics]   v1.session   \n1821                                       [humanities]  v2.ondemand   \n1822                                 [medicine, health]   v1.session   \n1823                         [infotech, cs-programming]   v1.session   \n1824                    [humanities, education, socsci]  v2.ondemand   \n\n                                            description  \\\n0     Gamification is the application of game elemen...   \n1     The vital signs – heart rate, blood pressure, ...   \n2     Themes can provide a great structure and pedag...   \n3     This is an introductory astronomy survey class...   \n4     Interested in increasing your knowledge of the...   \n5     Welcome to LearnToMod For Educators!\\n\\nIn thi...   \n6     Using water as the unifying theme, explore oce...   \n7     Large-scale biology projects such as the seque...   \n8     Have you ever wondered how a product recommend...   \n9     剪辑台前，剪辑师就像厨师对待食材一样，摆弄着拍摄现场记录下来的影像片段，用影像和声音去捕捉线...   \n10    Learn how to make effective decisions about yo...   \n11    工程圖學在教什麼？這門課有的重要性為何? 對我的專業有什麼幫助?沒有工程背景的人也可以學習工...   \n12    Ders çok değişkenli fonksiyonlardaki iki dersl...   \n13    Accounting Analytics explores how financial st...   \n14    Explores the factors — musical and cultural — ...   \n15    Have you come across large piles of garbage in...   \n16    This course offers participants an opportunity...   \n17    What is a musician’s response to the condition...   \n18    Producing music is an incredibly creative proc...   \n19    How can we shape urban development towards sus...   \n20    Often called “the cornerstone” of public healt...   \n21    課程介紹與教學目標 (About the course)\\n　　房屋為我們遮風避雨，讓我們安...   \n22    介紹國際職場素養的內涵及相關課題，培育學生應有的職場視野與能力，便利學生融入職場環境，迅速自...   \n23    Tired of solving Sudokus by hand? This class t...   \n24    In today’s world, politics and economics are i...   \n25    Ce cours d'introduction aux probabilités a la ...   \n26    This course focuses on technical, mobile and s...   \n27    “数据结构与算法”是计算机学科中的核心基础课程。课程的主要目标培养学生较全面地理解基本数据结...   \n28    Este curso forma parte de una secuencia con la...   \n29    In this course we study the ancient, Socratic ...   \n...                                                 ...   \n1795  Develop insights on navigating the innovation ...   \n1796  The Capstone Project for this Specialization r...   \n1797  This course is designed to be a fun introducti...   \n1798  What does it mean for an immigrant to become a...   \n1799  Por medio de este proyecto podrás poner en prá...   \n1800  這門課是「CAD/BIM技術與應用」專項課程的第五門課，屬於BIM系列課程：「工程資訊管理B...   \n1801  Action without strategy is a recipe for disast...   \n1802  We prepare high school teachers for teaching d...   \n1803  This class provides a series of Python program...   \n1804  欢迎选修北京大学MOOC课程“生物信息学：导论与方法”。\\n\\n近三十年来，生命科学与计算科...   \n1805  \"Becoming Part of the Globalised Organisation\"...   \n1806  Learn about acoustics by using the concept of ...   \n1807  A conceptual and interpretive public health ap...   \n1808  This course will build on the skills you learn...   \n1809  Course 2: Getting Started with Essay Writing\\n...   \n1810  In the Healthcare Marketplace specialization c...   \n1811  This course introduces participants from the h...   \n1812  This is a Chinese version of Competitive Strat...   \n1813  Vivimos en un mundo cada vez mas globalizado, ...   \n1814  Join thousands around the world in this free, ...   \n1815  In the capstone project, you will combine the ...   \n1816  Learn about different voting methods and fair ...   \n1817  This course gives you easy access to the inval...   \n1818  Coaching can inspire and motivate people to le...   \n1819  Did you miss the course when it ran in 2014? N...   \n1820  Using publicly available data from NASA of act...   \n1821  Archaeology is, among human sciences, the disc...   \n1822  This course provides students an understanding...   \n1823  This course introduces you to the design and i...   \n1824  When John F. Kennedy entered the presidential ...   \n\n                          id  \\\n0     69Bku0KoEeWZtA4u62x6lQ   \n1     5zjIsJq-EeW_wArffOXkOw   \n2     v9CQdBkhEeWjrA6seF25aw   \n3     QgmoVdT2EeSlhSIACx2EBw   \n4     KXOLVTovEeWnxw5wP_KHTw   \n5     QTTRdG3vEeWG0w42Sx-Gkw   \n6                    v1-1355   \n7     5uXCfFu2EeSU0SIACxCMgg   \n8     Rr2thkIKEeWZtA4u62x6lQ   \n9     rajsT7UJEeWl_hJObLDVwQ   \n10                   v1-1250   \n11    POZJ3uOtEeSoXCIACw4Gzg   \n12    ugSnwH9hEeSiIiIAC3lQMQ   \n13    rc5KG0aUEeWG1w6arGoEIQ   \n14                    v1-239   \n15    gpAI9GK4EeWFkQ7sUCFGVQ   \n16                    v1-640   \n17    Kzg9QkDxEeWZtA4u62x6lQ   \n18    tEqImn2kEeWb-BLhFdaGww   \n19    yO13mkySEeW_MgoxMAgbMQ   \n20    FjD-ZB8oEeScWCIACnuVZQ   \n21    6tx1Y3LiEeWxvQr3acyajw   \n22    mwj3ASWcEeWs4gorU6Q1Yw   \n23                    v1-174   \n24                   v1-1291   \n25    06EmILV2EeWq2A7HIftJ6w   \n26    9h_j5XEiEeWbbw5cIAKQrw   \n27                   v1-1012   \n28    xaYbkyBTEeWibgoGfGzczQ   \n29    yS8ezjDPEeW-zwq84wShFQ   \n...                      ...   \n1795  mn-McyvqEeWccAqzeA4VPw   \n1796  v6FbHbKsEeWbLRJn4j8c4Q   \n1797                   v1-88   \n1798                  v1-201   \n1799  621xKWGJEeW6VxKdzz12nw   \n1800  zdc8mAZVEeWXGCIAC0oLcA   \n1801  nw7W8Ib0EeWLPRLnVNA9qw   \n1802                 v1-1809   \n1803  gja-ZYNWEeWxQQoymFg8zQ   \n1804  UCVlZaWxEeSHRCIACyUEiQ   \n1805  Z3DWPpQKEeWI6BJRAK7IKQ   \n1806                 v1-1870   \n1807                  v1-791   \n1808  YyA0AhnoEeWwrBKfKrqlSQ   \n1809  HbD0pCZVEeW6YBLN1oULHQ   \n1810  nOx9K3HtEeWLqw7zlLhRzQ   \n1811                 v1-2988   \n1812  IFz46F48EeSncCIAC0eNkA   \n1813  1HMhd4JEEeWxQQoymFg8zQ   \n1814                 v1-3495   \n1815  miFF5HqMEeWpcQ7HugVD8Q   \n1816                  v1-843   \n1817  GdeNrll1EeSROyIACtiVvg   \n1818                 v1-3252   \n1819                 v1-1213   \n1820                  v1-462   \n1821  7dBeI8uGEeWoOwoxwyRjgQ   \n1822                 v1-1428   \n1823                 v1-2600   \n1824  lf2q-R6UEeSzvSIAC0KYCQ   \n\n                                                   name  \\\n0                                          Gamification   \n1     Vital Signs: Understanding What the Body Is Te...   \n2                                    Modern Art & Ideas   \n3                                 The Evolving Universe   \n4                              Introduction to Big Data   \n5                              LearnToMod For Educators   \n6                         Water: The Essential Resource   \n7                               Bioinformatic Methods I   \n8     Machine Learning Capstone: An Intelligent Appl...   \n9                                            剪辑：像编剧一样剪辑   \n10         Enhance Your Career and Employability Skills   \n11                                          工程圖學 2D CAD   \n12    Çok değişkenli Fonksiyon II: Uygulamalar / Mul...   \n13                                 Accounting Analytics   \n14       Music's Big Bang: The Genesis of Rock 'n' Roll   \n15    Municipal Solid Waste Management in Developing...   \n16    Common Core in Action: Math Classroom Challeng...   \n17                              Music and Social Action   \n18                                     Pro Tools Basics   \n19             Greening the Economy: Sustainable Cities   \n20     Epidemiology: The Basic Science of Public Health   \n21                     材料力學一 (Mechanics of Materials I)   \n22                               職場素養 (Professionalism)   \n23                                Discrete Optimization   \n24    Configuring the World: A Critical Political Ec...   \n25    Aléatoire : une introduction aux probabilités ...   \n26       Advanced Search Engine Optimization Strategies   \n27              数据结构与算法  Data Structures and Algorithms   \n28                       4.- El Cálculo - Otros Modelos   \n29    Reason and Persuasion: Thinking Through Three ...   \n...                                                 ...   \n1795  Innovation for Entrepreneurs: From Idea to Mar...   \n1796  Effective Communication in the Globalised Work...   \n1797  An Introduction to Interactive Programming in ...   \n1798                   Citizenship and U.S. Immigration   \n1799         Marketing en Redes Sociales Proyecto Final   \n1800                                      工程資訊管理 BIM 基礎   \n1801                                           Strategy   \n1802  Teaching Statistical Thinking: Part 1 Descript...   \n1803  Global Warming II: Create Your Own Models in P...   \n1804                                       生物信息学: 导论与方法   \n1805          Becoming Part of the Globalised Workplace   \n1806                 Introduction to Acoustics (Part 2)   \n1807  Statistical Reasoning for Public Health 1: Est...   \n1808  Java Programming: Arrays, Lists, and Structure...   \n1809                 Getting Started with Essay Writing   \n1810                    Healthcare Marketplace Capstone   \n1811  Confronting Gender Based Violence: Global Less...   \n1812                                          竞争策略（中文版）   \n1813                        Negocios Internacionales II   \n1814  ART of the MOOC: Merging Public Art and Experi...   \n1815                             Job Interview Capstone   \n1816  Making Better Group Decisions: Voting, Judgeme...   \n1817  Learning How to Learn: Powerful mental tools t...   \n1818  Conversations that Inspire: Coaching Learning,...   \n1819     Assessment and Teaching of 21st Century Skills   \n1820                             Analyzing the Universe   \n1821  Recovering the Humankind's Past and Saving the...   \n1822  Tropical Parasitology: Protozoans, Worms, Vect...   \n1823  Programming Mobile Applications for Android Ha...   \n1824                           The Kennedy Half Century   \n\n                                               photoUrl  \\\n0     https://d3njjcbhbojbot.cloudfront.net/api/util...   \n1     https://d3njjcbhbojbot.cloudfront.net/api/util...   \n2     https://d3njjcbhbojbot.cloudfront.net/api/util...   \n3     https://d3njjcbhbojbot.cloudfront.net/api/util...   \n4     https://d3njjcbhbojbot.cloudfront.net/api/util...   \n5     https://d3njjcbhbojbot.cloudfront.net/api/util...   \n6     https://d3njjcbhbojbot.cloudfront.net/api/util...   \n7     https://d3njjcbhbojbot.cloudfront.net/api/util...   \n8     https://d3njjcbhbojbot.cloudfront.net/api/util...   \n9     https://d3njjcbhbojbot.cloudfront.net/api/util...   \n10    https://d3njjcbhbojbot.cloudfront.net/api/util...   \n11    https://d3njjcbhbojbot.cloudfront.net/api/util...   \n12    https://d3njjcbhbojbot.cloudfront.net/api/util...   \n13    https://d3njjcbhbojbot.cloudfront.net/api/util...   \n14    https://d3njjcbhbojbot.cloudfront.net/api/util...   \n15    https://d3njjcbhbojbot.cloudfront.net/api/util...   \n16    https://d3njjcbhbojbot.cloudfront.net/api/util...   \n17    https://d3njjcbhbojbot.cloudfront.net/api/util...   \n18    https://d3njjcbhbojbot.cloudfront.net/api/util...   \n19    https://d3njjcbhbojbot.cloudfront.net/api/util...   \n20    https://d3njjcbhbojbot.cloudfront.net/api/util...   \n21    https://d3njjcbhbojbot.cloudfront.net/api/util...   \n22    https://d3njjcbhbojbot.cloudfront.net/api/util...   \n23    https://d3njjcbhbojbot.cloudfront.net/api/util...   \n24    https://d3njjcbhbojbot.cloudfront.net/api/util...   \n25    https://d3njjcbhbojbot.cloudfront.net/api/util...   \n26    https://d3njjcbhbojbot.cloudfront.net/api/util...   \n27    https://d3njjcbhbojbot.cloudfront.net/api/util...   \n28    https://d3njjcbhbojbot.cloudfront.net/api/util...   \n29    https://d3njjcbhbojbot.cloudfront.net/api/util...   \n...                                                 ...   \n1795  https://d3njjcbhbojbot.cloudfront.net/api/util...   \n1796  https://d3njjcbhbojbot.cloudfront.net/api/util...   \n1797  https://d3njjcbhbojbot.cloudfront.net/api/util...   \n1798  https://d3njjcbhbojbot.cloudfront.net/api/util...   \n1799  https://d3njjcbhbojbot.cloudfront.net/api/util...   \n1800  https://d3njjcbhbojbot.cloudfront.net/api/util...   \n1801  https://d3njjcbhbojbot.cloudfront.net/api/util...   \n1802  https://d3njjcbhbojbot.cloudfront.net/api/util...   \n1803  https://d3njjcbhbojbot.cloudfront.net/api/util...   \n1804  https://d3njjcbhbojbot.cloudfront.net/api/util...   \n1805  https://d3njjcbhbojbot.cloudfront.net/api/util...   \n1806  https://d3njjcbhbojbot.cloudfront.net/api/util...   \n1807  https://d3njjcbhbojbot.cloudfront.net/api/util...   \n1808  https://d3njjcbhbojbot.cloudfront.net/api/util...   \n1809  https://d3njjcbhbojbot.cloudfront.net/api/util...   \n1810  https://d3njjcbhbojbot.cloudfront.net/api/util...   \n1811  https://d3njjcbhbojbot.cloudfront.net/api/util...   \n1812  https://d3njjcbhbojbot.cloudfront.net/api/util...   \n1813  https://d3njjcbhbojbot.cloudfront.net/api/util...   \n1814  https://d3njjcbhbojbot.cloudfront.net/api/util...   \n1815  https://d3njjcbhbojbot.cloudfront.net/api/util...   \n1816  https://d3njjcbhbojbot.cloudfront.net/api/util...   \n1817  https://d3njjcbhbojbot.cloudfront.net/api/util...   \n1818  https://d3njjcbhbojbot.cloudfront.net/api/util...   \n1819  https://d3njjcbhbojbot.cloudfront.net/api/util...   \n1820  https://d3njjcbhbojbot.cloudfront.net/api/util...   \n1821  https://d3njjcbhbojbot.cloudfront.net/api/util...   \n1822  https://d3njjcbhbojbot.cloudfront.net/api/util...   \n1823  https://d3njjcbhbojbot.cloudfront.net/api/util...   \n1824  https://d3njjcbhbojbot.cloudfront.net/api/util...   \n\n                                            previewLink  \\\n0                                                   NaN   \n1                                                   NaN   \n2                                                   NaN   \n3                                                   NaN   \n4                                                   NaN   \n5                                                   NaN   \n6                                                   NaN   \n7                                                   NaN   \n8                                                   NaN   \n9                                                   NaN   \n10                                                  NaN   \n11                                                  NaN   \n12                                                  NaN   \n13                                                  NaN   \n14                                                  NaN   \n15                                                  NaN   \n16                                                  NaN   \n17                                                  NaN   \n18                                                  NaN   \n19                                                  NaN   \n20                                                  NaN   \n21                                                  NaN   \n22                                                  NaN   \n23                                                  NaN   \n24                                                  NaN   \n25                                                  NaN   \n26                                                  NaN   \n27                                                  NaN   \n28                                                  NaN   \n29                                                  NaN   \n...                                                 ...   \n1795                                                NaN   \n1796                                                NaN   \n1797                                                NaN   \n1798                                                NaN   \n1799                                                NaN   \n1800                                                NaN   \n1801                                                NaN   \n1802                                                NaN   \n1803                                                NaN   \n1804                                                NaN   \n1805                                                NaN   \n1806                                                NaN   \n1807                                                NaN   \n1808                                                NaN   \n1809                                                NaN   \n1810                                                NaN   \n1811                                                NaN   \n1812                                                NaN   \n1813                                                NaN   \n1814                                                NaN   \n1815                                                NaN   \n1816  https://class.coursera.org/votingfairdiv-001/l...   \n1817                                                NaN   \n1818                                                NaN   \n1819                                                NaN   \n1820  https://class.coursera.org/analyze-003/lecture...   \n1821                                                NaN   \n1822                                                NaN   \n1823                                                NaN   \n1824                                                NaN   \n\n                                                   slug     startDate  \n0                                          gamification  1.447096e+12  \n1                                           vital-signs  1.456818e+12  \n2                                      modern-art-ideas  1.439923e+12  \n3                                      evolvinguniverse  1.431662e+12  \n4                                     intro-to-big-data  1.442277e+12  \n5                                            learntomod  1.447090e+12  \n6                                   waterandenvironment           NaN  \n7                              bioinformatics-methods-1  1.421096e+12  \n8                                           ml-capstone  1.441044e+12  \n9                                               jian-ji  1.453238e+12  \n10                                               career           NaN  \n11                                               2d-cad  1.434394e+12  \n12                          calculus-diferansiyel-hesap  1.418765e+12  \n13                                 accounting-analytics  1.452301e+12  \n14                                        musicsbigbang           NaN  \n15                               solid-waste-management  1.456157e+12  \n16                                           ccss-math1           NaN  \n17                              music-and-social-action  1.456120e+12  \n18                                             protools  1.455312e+12  \n19                               gte-sustainable-cities  1.453148e+12  \n20                                         epidemiology  1.412124e+12  \n21                             mechanics-of-materials-1  1.452548e+12  \n22                                      zhichang-suyang  1.439324e+12  \n23                                         optimization           NaN  \n24                                     configuringworld           NaN  \n25                                       probabilites-2  1.454955e+12  \n26                              advanced-seo-strategies  1.453242e+12  \n27                                               dsalgo           NaN  \n28                                            calculo-4  1.440013e+12  \n29                                      plato-dialogues  1.454456e+12  \n...                                                 ...           ...  \n1795                            innovative-entrepreneur  1.447695e+12  \n1796  effective-communication-in-the-globalised-work...  1.453244e+12  \n1797                                  interactivepython           NaN  \n1798                                        immigration           NaN  \n1799                            redes-sociales-proyecto  1.454100e+12  \n1800                               jianzhu-zixun-jianmo  1.439575e+12  \n1801                               howtostartabusiness5  1.453246e+12  \n1802                                        teachstats1           NaN  \n1803                               global-warming-model  1.454978e+12  \n1804                                sheng-wu-xin-xi-xue  1.429055e+12  \n1805          becoming-part-of-the-globalised-workplace  1.453244e+12  \n1806                                         acoustics2           NaN  \n1807                                      statreasoning           NaN  \n1808                 java-programming-arrays-lists-data  1.447453e+12  \n1809                 getting-started-with-essay-writing  1.445279e+12  \n1810                    healthcare-marketplace-capstone  1.453239e+12  \n1811                                                gbv           NaN  \n1812                              competitivestrategyzh  1.414714e+12  \n1813                         negocios-internacionales-2  1.453484e+12  \n1814                                       artofthemooc           NaN  \n1815                             job-interview-capstone  1.453242e+12  \n1816                                      votingfairdiv           NaN  \n1817                              learning-how-to-learn  1.423689e+12  \n1818                                           coaching           NaN  \n1819                                             atc21s           NaN  \n1820                                            analyze           NaN  \n1821                       preserving-cultural-heritage  1.455925e+12  \n1822                                       parasitology           NaN  \n1823                                       androidpart2           NaN  \n1824                                            kennedy  1.413345e+12  \n\n[1825 rows x 9 columns] is not JSON serializable",
     "output_type": "error",
     "traceback": [
      "\u001b[1;31m---------------------------------------------------------------------------\u001b[0m",
      "\u001b[1;31mTypeError\u001b[0m                                 Traceback (most recent call last)",
      "\u001b[1;32m<ipython-input-24-f79ab462e6db>\u001b[0m in \u001b[0;36m<module>\u001b[1;34m()\u001b[0m\n\u001b[0;32m      1\u001b[0m \u001b[1;32mwith\u001b[0m \u001b[0mopen\u001b[0m\u001b[1;33m(\u001b[0m\u001b[1;34m'data.txt'\u001b[0m\u001b[1;33m,\u001b[0m \u001b[1;34m'w'\u001b[0m\u001b[1;33m)\u001b[0m \u001b[1;32mas\u001b[0m \u001b[0moutfile\u001b[0m\u001b[1;33m:\u001b[0m\u001b[1;33m\u001b[0m\u001b[0m\n\u001b[1;32m----> 2\u001b[1;33m     \u001b[0mjson\u001b[0m\u001b[1;33m.\u001b[0m\u001b[0mdump\u001b[0m\u001b[1;33m(\u001b[0m\u001b[0mcoursera\u001b[0m\u001b[1;33m,\u001b[0m \u001b[0moutfile\u001b[0m\u001b[1;33m)\u001b[0m\u001b[1;33m\u001b[0m\u001b[0m\n\u001b[0m",
      "\u001b[1;32m/home/abhijeet/anaconda3/lib/python3.5/json/__init__.py\u001b[0m in \u001b[0;36mdump\u001b[1;34m(obj, fp, skipkeys, ensure_ascii, check_circular, allow_nan, cls, indent, separators, default, sort_keys, **kw)\u001b[0m\n\u001b[0;32m    176\u001b[0m     \u001b[1;31m# could accelerate with writelines in some versions of Python, at\u001b[0m\u001b[1;33m\u001b[0m\u001b[1;33m\u001b[0m\u001b[0m\n\u001b[0;32m    177\u001b[0m     \u001b[1;31m# a debuggability cost\u001b[0m\u001b[1;33m\u001b[0m\u001b[1;33m\u001b[0m\u001b[0m\n\u001b[1;32m--> 178\u001b[1;33m     \u001b[1;32mfor\u001b[0m \u001b[0mchunk\u001b[0m \u001b[1;32min\u001b[0m \u001b[0miterable\u001b[0m\u001b[1;33m:\u001b[0m\u001b[1;33m\u001b[0m\u001b[0m\n\u001b[0m\u001b[0;32m    179\u001b[0m         \u001b[0mfp\u001b[0m\u001b[1;33m.\u001b[0m\u001b[0mwrite\u001b[0m\u001b[1;33m(\u001b[0m\u001b[0mchunk\u001b[0m\u001b[1;33m)\u001b[0m\u001b[1;33m\u001b[0m\u001b[0m\n\u001b[0;32m    180\u001b[0m \u001b[1;33m\u001b[0m\u001b[0m\n",
      "\u001b[1;32m/home/abhijeet/anaconda3/lib/python3.5/json/encoder.py\u001b[0m in \u001b[0;36m_iterencode\u001b[1;34m(o, _current_indent_level)\u001b[0m\n\u001b[0;32m    434\u001b[0m                     \u001b[1;32mraise\u001b[0m \u001b[0mValueError\u001b[0m\u001b[1;33m(\u001b[0m\u001b[1;34m\"Circular reference detected\"\u001b[0m\u001b[1;33m)\u001b[0m\u001b[1;33m\u001b[0m\u001b[0m\n\u001b[0;32m    435\u001b[0m                 \u001b[0mmarkers\u001b[0m\u001b[1;33m[\u001b[0m\u001b[0mmarkerid\u001b[0m\u001b[1;33m]\u001b[0m \u001b[1;33m=\u001b[0m \u001b[0mo\u001b[0m\u001b[1;33m\u001b[0m\u001b[0m\n\u001b[1;32m--> 436\u001b[1;33m             \u001b[0mo\u001b[0m \u001b[1;33m=\u001b[0m \u001b[0m_default\u001b[0m\u001b[1;33m(\u001b[0m\u001b[0mo\u001b[0m\u001b[1;33m)\u001b[0m\u001b[1;33m\u001b[0m\u001b[0m\n\u001b[0m\u001b[0;32m    437\u001b[0m             \u001b[1;32myield\u001b[0m \u001b[1;32mfrom\u001b[0m \u001b[0m_iterencode\u001b[0m\u001b[1;33m(\u001b[0m\u001b[0mo\u001b[0m\u001b[1;33m,\u001b[0m \u001b[0m_current_indent_level\u001b[0m\u001b[1;33m)\u001b[0m\u001b[1;33m\u001b[0m\u001b[0m\n\u001b[0;32m    438\u001b[0m             \u001b[1;32mif\u001b[0m \u001b[0mmarkers\u001b[0m \u001b[1;32mis\u001b[0m \u001b[1;32mnot\u001b[0m \u001b[1;32mNone\u001b[0m\u001b[1;33m:\u001b[0m\u001b[1;33m\u001b[0m\u001b[0m\n",
      "\u001b[1;32m/home/abhijeet/anaconda3/lib/python3.5/json/encoder.py\u001b[0m in \u001b[0;36mdefault\u001b[1;34m(self, o)\u001b[0m\n\u001b[0;32m    178\u001b[0m \u001b[1;33m\u001b[0m\u001b[0m\n\u001b[0;32m    179\u001b[0m         \"\"\"\n\u001b[1;32m--> 180\u001b[1;33m         \u001b[1;32mraise\u001b[0m \u001b[0mTypeError\u001b[0m\u001b[1;33m(\u001b[0m\u001b[0mrepr\u001b[0m\u001b[1;33m(\u001b[0m\u001b[0mo\u001b[0m\u001b[1;33m)\u001b[0m \u001b[1;33m+\u001b[0m \u001b[1;34m\" is not JSON serializable\"\u001b[0m\u001b[1;33m)\u001b[0m\u001b[1;33m\u001b[0m\u001b[0m\n\u001b[0m\u001b[0;32m    181\u001b[0m \u001b[1;33m\u001b[0m\u001b[0m\n\u001b[0;32m    182\u001b[0m     \u001b[1;32mdef\u001b[0m \u001b[0mencode\u001b[0m\u001b[1;33m(\u001b[0m\u001b[0mself\u001b[0m\u001b[1;33m,\u001b[0m \u001b[0mo\u001b[0m\u001b[1;33m)\u001b[0m\u001b[1;33m:\u001b[0m\u001b[1;33m\u001b[0m\u001b[0m\n",
      "\u001b[1;31mTypeError\u001b[0m:                                              categories   courseType  \\\n0                                  [infotech, business]  v2.ondemand   \n1                                   [medicine, biology]  v2.ondemand   \n2              [arts, education, teacherpd, humanities]  v2.ondemand   \n3                                   [physical, physics]  v2.ondemand   \n4                                        [stats, cs-ai]  v2.ondemand   \n5                                                    []  v2.ondemand   \n6                                [education, teacherpd]   v1.session   \n7                                               [stats]  v2.ondemand   \n8                                           [cs-theory]  v2.capstone   \n9                                                    []  v2.ondemand   \n10    [health, business, stats, physics, music, ener...   v1.session   \n11                                       [infotech, ee]  v2.ondemand   \n12                                               [math]  v2.ondemand   \n13                                    [business, stats]  v2.ondemand   \n14                                              [music]   v1.session   \n15                                                   []  v2.ondemand   \n16                         [math, education, teacherpd]   v1.session   \n17                                      [music, health]  v2.ondemand   \n18                                                   []  v2.ondemand   \n19                                             [energy]  v2.ondemand   \n20                                             [health]  v2.ondemand   \n21                                                   []  v2.ondemand   \n22                                [economics, business]  v2.ondemand   \n23                                              [cs-ai]   v1.session   \n24                      [economics, humanities, socsci]   v1.session   \n25                                               [math]  v2.ondemand   \n26                                                   []  v2.ondemand   \n27                                          [cs-theory]   v1.session   \n28                                               [math]  v2.ondemand   \n29                                       [socsci, arts]  v2.ondemand   \n...                                                 ...          ...   \n1795                           [infotech, business, ee]  v2.ondemand   \n1796                                                 []  v2.capstone   \n1797                                   [cs-programming]   v1.session   \n1798                                  [humanities, law]   v1.session   \n1799                                                 []  v2.capstone   \n1800                                               [ee]  v2.ondemand   \n1801                                                 []  v2.ondemand   \n1802                      [education, stats, teacherpd]   v1.session   \n1803               [physical, biology, physics, energy]  v2.ondemand   \n1804  [math, biology, cs-theory, cs-programming, med...  v2.ondemand   \n1805                                                 []  v2.ondemand   \n1806                               [ee, music, physics]   v1.session   \n1807                          [medicine, math, biology]   v1.session   \n1808                                   [cs-programming]  v2.ondemand   \n1809                            [education, humanities]  v2.ondemand   \n1810                                                 []  v2.capstone   \n1811                         [medicine, health, socsci]   v1.session   \n1812                              [economics, business]  v2.ondemand   \n1813                                                 []  v2.ondemand   \n1814       [music, education, arts, socsci, humanities]   v1.session   \n1815                                                 []  v2.capstone   \n1816               [economics, math, humanities, cs-ai]   v1.session   \n1817  [math, biology, chemistry, energy, education, ...  v2.ondemand   \n1818          [humanities, business, education, socsci]   v1.session   \n1819                             [education, teacherpd]   v1.session   \n1820                                          [physics]   v1.session   \n1821                                       [humanities]  v2.ondemand   \n1822                                 [medicine, health]   v1.session   \n1823                         [infotech, cs-programming]   v1.session   \n1824                    [humanities, education, socsci]  v2.ondemand   \n\n                                            description  \\\n0     Gamification is the application of game elemen...   \n1     The vital signs – heart rate, blood pressure, ...   \n2     Themes can provide a great structure and pedag...   \n3     This is an introductory astronomy survey class...   \n4     Interested in increasing your knowledge of the...   \n5     Welcome to LearnToMod For Educators!\\n\\nIn thi...   \n6     Using water as the unifying theme, explore oce...   \n7     Large-scale biology projects such as the seque...   \n8     Have you ever wondered how a product recommend...   \n9     剪辑台前，剪辑师就像厨师对待食材一样，摆弄着拍摄现场记录下来的影像片段，用影像和声音去捕捉线...   \n10    Learn how to make effective decisions about yo...   \n11    工程圖學在教什麼？這門課有的重要性為何? 對我的專業有什麼幫助?沒有工程背景的人也可以學習工...   \n12    Ders çok değişkenli fonksiyonlardaki iki dersl...   \n13    Accounting Analytics explores how financial st...   \n14    Explores the factors — musical and cultural — ...   \n15    Have you come across large piles of garbage in...   \n16    This course offers participants an opportunity...   \n17    What is a musician’s response to the condition...   \n18    Producing music is an incredibly creative proc...   \n19    How can we shape urban development towards sus...   \n20    Often called “the cornerstone” of public healt...   \n21    課程介紹與教學目標 (About the course)\\n　　房屋為我們遮風避雨，讓我們安...   \n22    介紹國際職場素養的內涵及相關課題，培育學生應有的職場視野與能力，便利學生融入職場環境，迅速自...   \n23    Tired of solving Sudokus by hand? This class t...   \n24    In today’s world, politics and economics are i...   \n25    Ce cours d'introduction aux probabilités a la ...   \n26    This course focuses on technical, mobile and s...   \n27    “数据结构与算法”是计算机学科中的核心基础课程。课程的主要目标培养学生较全面地理解基本数据结...   \n28    Este curso forma parte de una secuencia con la...   \n29    In this course we study the ancient, Socratic ...   \n...                                                 ...   \n1795  Develop insights on navigating the innovation ...   \n1796  The Capstone Project for this Specialization r...   \n1797  This course is designed to be a fun introducti...   \n1798  What does it mean for an immigrant to become a...   \n1799  Por medio de este proyecto podrás poner en prá...   \n1800  這門課是「CAD/BIM技術與應用」專項課程的第五門課，屬於BIM系列課程：「工程資訊管理B...   \n1801  Action without strategy is a recipe for disast...   \n1802  We prepare high school teachers for teaching d...   \n1803  This class provides a series of Python program...   \n1804  欢迎选修北京大学MOOC课程“生物信息学：导论与方法”。\\n\\n近三十年来，生命科学与计算科...   \n1805  \"Becoming Part of the Globalised Organisation\"...   \n1806  Learn about acoustics by using the concept of ...   \n1807  A conceptual and interpretive public health ap...   \n1808  This course will build on the skills you learn...   \n1809  Course 2: Getting Started with Essay Writing\\n...   \n1810  In the Healthcare Marketplace specialization c...   \n1811  This course introduces participants from the h...   \n1812  This is a Chinese version of Competitive Strat...   \n1813  Vivimos en un mundo cada vez mas globalizado, ...   \n1814  Join thousands around the world in this free, ...   \n1815  In the capstone project, you will combine the ...   \n1816  Learn about different voting methods and fair ...   \n1817  This course gives you easy access to the inval...   \n1818  Coaching can inspire and motivate people to le...   \n1819  Did you miss the course when it ran in 2014? N...   \n1820  Using publicly available data from NASA of act...   \n1821  Archaeology is, among human sciences, the disc...   \n1822  This course provides students an understanding...   \n1823  This course introduces you to the design and i...   \n1824  When John F. Kennedy entered the presidential ...   \n\n                          id  \\\n0     69Bku0KoEeWZtA4u62x6lQ   \n1     5zjIsJq-EeW_wArffOXkOw   \n2     v9CQdBkhEeWjrA6seF25aw   \n3     QgmoVdT2EeSlhSIACx2EBw   \n4     KXOLVTovEeWnxw5wP_KHTw   \n5     QTTRdG3vEeWG0w42Sx-Gkw   \n6                    v1-1355   \n7     5uXCfFu2EeSU0SIACxCMgg   \n8     Rr2thkIKEeWZtA4u62x6lQ   \n9     rajsT7UJEeWl_hJObLDVwQ   \n10                   v1-1250   \n11    POZJ3uOtEeSoXCIACw4Gzg   \n12    ugSnwH9hEeSiIiIAC3lQMQ   \n13    rc5KG0aUEeWG1w6arGoEIQ   \n14                    v1-239   \n15    gpAI9GK4EeWFkQ7sUCFGVQ   \n16                    v1-640   \n17    Kzg9QkDxEeWZtA4u62x6lQ   \n18    tEqImn2kEeWb-BLhFdaGww   \n19    yO13mkySEeW_MgoxMAgbMQ   \n20    FjD-ZB8oEeScWCIACnuVZQ   \n21    6tx1Y3LiEeWxvQr3acyajw   \n22    mwj3ASWcEeWs4gorU6Q1Yw   \n23                    v1-174   \n24                   v1-1291   \n25    06EmILV2EeWq2A7HIftJ6w   \n26    9h_j5XEiEeWbbw5cIAKQrw   \n27                   v1-1012   \n28    xaYbkyBTEeWibgoGfGzczQ   \n29    yS8ezjDPEeW-zwq84wShFQ   \n...                      ...   \n1795  mn-McyvqEeWccAqzeA4VPw   \n1796  v6FbHbKsEeWbLRJn4j8c4Q   \n1797                   v1-88   \n1798                  v1-201   \n1799  621xKWGJEeW6VxKdzz12nw   \n1800  zdc8mAZVEeWXGCIAC0oLcA   \n1801  nw7W8Ib0EeWLPRLnVNA9qw   \n1802                 v1-1809   \n1803  gja-ZYNWEeWxQQoymFg8zQ   \n1804  UCVlZaWxEeSHRCIACyUEiQ   \n1805  Z3DWPpQKEeWI6BJRAK7IKQ   \n1806                 v1-1870   \n1807                  v1-791   \n1808  YyA0AhnoEeWwrBKfKrqlSQ   \n1809  HbD0pCZVEeW6YBLN1oULHQ   \n1810  nOx9K3HtEeWLqw7zlLhRzQ   \n1811                 v1-2988   \n1812  IFz46F48EeSncCIAC0eNkA   \n1813  1HMhd4JEEeWxQQoymFg8zQ   \n1814                 v1-3495   \n1815  miFF5HqMEeWpcQ7HugVD8Q   \n1816                  v1-843   \n1817  GdeNrll1EeSROyIACtiVvg   \n1818                 v1-3252   \n1819                 v1-1213   \n1820                  v1-462   \n1821  7dBeI8uGEeWoOwoxwyRjgQ   \n1822                 v1-1428   \n1823                 v1-2600   \n1824  lf2q-R6UEeSzvSIAC0KYCQ   \n\n                                                   name  \\\n0                                          Gamification   \n1     Vital Signs: Understanding What the Body Is Te...   \n2                                    Modern Art & Ideas   \n3                                 The Evolving Universe   \n4                              Introduction to Big Data   \n5                              LearnToMod For Educators   \n6                         Water: The Essential Resource   \n7                               Bioinformatic Methods I   \n8     Machine Learning Capstone: An Intelligent Appl...   \n9                                            剪辑：像编剧一样剪辑   \n10         Enhance Your Career and Employability Skills   \n11                                          工程圖學 2D CAD   \n12    Çok değişkenli Fonksiyon II: Uygulamalar / Mul...   \n13                                 Accounting Analytics   \n14       Music's Big Bang: The Genesis of Rock 'n' Roll   \n15    Municipal Solid Waste Management in Developing...   \n16    Common Core in Action: Math Classroom Challeng...   \n17                              Music and Social Action   \n18                                     Pro Tools Basics   \n19             Greening the Economy: Sustainable Cities   \n20     Epidemiology: The Basic Science of Public Health   \n21                     材料力學一 (Mechanics of Materials I)   \n22                               職場素養 (Professionalism)   \n23                                Discrete Optimization   \n24    Configuring the World: A Critical Political Ec...   \n25    Aléatoire : une introduction aux probabilités ...   \n26       Advanced Search Engine Optimization Strategies   \n27              数据结构与算法  Data Structures and Algorithms   \n28                       4.- El Cálculo - Otros Modelos   \n29    Reason and Persuasion: Thinking Through Three ...   \n...                                                 ...   \n1795  Innovation for Entrepreneurs: From Idea to Mar...   \n1796  Effective Communication in the Globalised Work...   \n1797  An Introduction to Interactive Programming in ...   \n1798                   Citizenship and U.S. Immigration   \n1799         Marketing en Redes Sociales Proyecto Final   \n1800                                      工程資訊管理 BIM 基礎   \n1801                                           Strategy   \n1802  Teaching Statistical Thinking: Part 1 Descript...   \n1803  Global Warming II: Create Your Own Models in P...   \n1804                                       生物信息学: 导论与方法   \n1805          Becoming Part of the Globalised Workplace   \n1806                 Introduction to Acoustics (Part 2)   \n1807  Statistical Reasoning for Public Health 1: Est...   \n1808  Java Programming: Arrays, Lists, and Structure...   \n1809                 Getting Started with Essay Writing   \n1810                    Healthcare Marketplace Capstone   \n1811  Confronting Gender Based Violence: Global Less...   \n1812                                          竞争策略（中文版）   \n1813                        Negocios Internacionales II   \n1814  ART of the MOOC: Merging Public Art and Experi...   \n1815                             Job Interview Capstone   \n1816  Making Better Group Decisions: Voting, Judgeme...   \n1817  Learning How to Learn: Powerful mental tools t...   \n1818  Conversations that Inspire: Coaching Learning,...   \n1819     Assessment and Teaching of 21st Century Skills   \n1820                             Analyzing the Universe   \n1821  Recovering the Humankind's Past and Saving the...   \n1822  Tropical Parasitology: Protozoans, Worms, Vect...   \n1823  Programming Mobile Applications for Android Ha...   \n1824                           The Kennedy Half Century   \n\n                                               photoUrl  \\\n0     https://d3njjcbhbojbot.cloudfront.net/api/util...   \n1     https://d3njjcbhbojbot.cloudfront.net/api/util...   \n2     https://d3njjcbhbojbot.cloudfront.net/api/util...   \n3     https://d3njjcbhbojbot.cloudfront.net/api/util...   \n4     https://d3njjcbhbojbot.cloudfront.net/api/util...   \n5     https://d3njjcbhbojbot.cloudfront.net/api/util...   \n6     https://d3njjcbhbojbot.cloudfront.net/api/util...   \n7     https://d3njjcbhbojbot.cloudfront.net/api/util...   \n8     https://d3njjcbhbojbot.cloudfront.net/api/util...   \n9     https://d3njjcbhbojbot.cloudfront.net/api/util...   \n10    https://d3njjcbhbojbot.cloudfront.net/api/util...   \n11    https://d3njjcbhbojbot.cloudfront.net/api/util...   \n12    https://d3njjcbhbojbot.cloudfront.net/api/util...   \n13    https://d3njjcbhbojbot.cloudfront.net/api/util...   \n14    https://d3njjcbhbojbot.cloudfront.net/api/util...   \n15    https://d3njjcbhbojbot.cloudfront.net/api/util...   \n16    https://d3njjcbhbojbot.cloudfront.net/api/util...   \n17    https://d3njjcbhbojbot.cloudfront.net/api/util...   \n18    https://d3njjcbhbojbot.cloudfront.net/api/util...   \n19    https://d3njjcbhbojbot.cloudfront.net/api/util...   \n20    https://d3njjcbhbojbot.cloudfront.net/api/util...   \n21    https://d3njjcbhbojbot.cloudfront.net/api/util...   \n22    https://d3njjcbhbojbot.cloudfront.net/api/util...   \n23    https://d3njjcbhbojbot.cloudfront.net/api/util...   \n24    https://d3njjcbhbojbot.cloudfront.net/api/util...   \n25    https://d3njjcbhbojbot.cloudfront.net/api/util...   \n26    https://d3njjcbhbojbot.cloudfront.net/api/util...   \n27    https://d3njjcbhbojbot.cloudfront.net/api/util...   \n28    https://d3njjcbhbojbot.cloudfront.net/api/util...   \n29    https://d3njjcbhbojbot.cloudfront.net/api/util...   \n...                                                 ...   \n1795  https://d3njjcbhbojbot.cloudfront.net/api/util...   \n1796  https://d3njjcbhbojbot.cloudfront.net/api/util...   \n1797  https://d3njjcbhbojbot.cloudfront.net/api/util...   \n1798  https://d3njjcbhbojbot.cloudfront.net/api/util...   \n1799  https://d3njjcbhbojbot.cloudfront.net/api/util...   \n1800  https://d3njjcbhbojbot.cloudfront.net/api/util...   \n1801  https://d3njjcbhbojbot.cloudfront.net/api/util...   \n1802  https://d3njjcbhbojbot.cloudfront.net/api/util...   \n1803  https://d3njjcbhbojbot.cloudfront.net/api/util...   \n1804  https://d3njjcbhbojbot.cloudfront.net/api/util...   \n1805  https://d3njjcbhbojbot.cloudfront.net/api/util...   \n1806  https://d3njjcbhbojbot.cloudfront.net/api/util...   \n1807  https://d3njjcbhbojbot.cloudfront.net/api/util...   \n1808  https://d3njjcbhbojbot.cloudfront.net/api/util...   \n1809  https://d3njjcbhbojbot.cloudfront.net/api/util...   \n1810  https://d3njjcbhbojbot.cloudfront.net/api/util...   \n1811  https://d3njjcbhbojbot.cloudfront.net/api/util...   \n1812  https://d3njjcbhbojbot.cloudfront.net/api/util...   \n1813  https://d3njjcbhbojbot.cloudfront.net/api/util...   \n1814  https://d3njjcbhbojbot.cloudfront.net/api/util...   \n1815  https://d3njjcbhbojbot.cloudfront.net/api/util...   \n1816  https://d3njjcbhbojbot.cloudfront.net/api/util...   \n1817  https://d3njjcbhbojbot.cloudfront.net/api/util...   \n1818  https://d3njjcbhbojbot.cloudfront.net/api/util...   \n1819  https://d3njjcbhbojbot.cloudfront.net/api/util...   \n1820  https://d3njjcbhbojbot.cloudfront.net/api/util...   \n1821  https://d3njjcbhbojbot.cloudfront.net/api/util...   \n1822  https://d3njjcbhbojbot.cloudfront.net/api/util...   \n1823  https://d3njjcbhbojbot.cloudfront.net/api/util...   \n1824  https://d3njjcbhbojbot.cloudfront.net/api/util...   \n\n                                            previewLink  \\\n0                                                   NaN   \n1                                                   NaN   \n2                                                   NaN   \n3                                                   NaN   \n4                                                   NaN   \n5                                                   NaN   \n6                                                   NaN   \n7                                                   NaN   \n8                                                   NaN   \n9                                                   NaN   \n10                                                  NaN   \n11                                                  NaN   \n12                                                  NaN   \n13                                                  NaN   \n14                                                  NaN   \n15                                                  NaN   \n16                                                  NaN   \n17                                                  NaN   \n18                                                  NaN   \n19                                                  NaN   \n20                                                  NaN   \n21                                                  NaN   \n22                                                  NaN   \n23                                                  NaN   \n24                                                  NaN   \n25                                                  NaN   \n26                                                  NaN   \n27                                                  NaN   \n28                                                  NaN   \n29                                                  NaN   \n...                                                 ...   \n1795                                                NaN   \n1796                                                NaN   \n1797                                                NaN   \n1798                                                NaN   \n1799                                                NaN   \n1800                                                NaN   \n1801                                                NaN   \n1802                                                NaN   \n1803                                                NaN   \n1804                                                NaN   \n1805                                                NaN   \n1806                                                NaN   \n1807                                                NaN   \n1808                                                NaN   \n1809                                                NaN   \n1810                                                NaN   \n1811                                                NaN   \n1812                                                NaN   \n1813                                                NaN   \n1814                                                NaN   \n1815                                                NaN   \n1816  https://class.coursera.org/votingfairdiv-001/l...   \n1817                                                NaN   \n1818                                                NaN   \n1819                                                NaN   \n1820  https://class.coursera.org/analyze-003/lecture...   \n1821                                                NaN   \n1822                                                NaN   \n1823                                                NaN   \n1824                                                NaN   \n\n                                                   slug     startDate  \n0                                          gamification  1.447096e+12  \n1                                           vital-signs  1.456818e+12  \n2                                      modern-art-ideas  1.439923e+12  \n3                                      evolvinguniverse  1.431662e+12  \n4                                     intro-to-big-data  1.442277e+12  \n5                                            learntomod  1.447090e+12  \n6                                   waterandenvironment           NaN  \n7                              bioinformatics-methods-1  1.421096e+12  \n8                                           ml-capstone  1.441044e+12  \n9                                               jian-ji  1.453238e+12  \n10                                               career           NaN  \n11                                               2d-cad  1.434394e+12  \n12                          calculus-diferansiyel-hesap  1.418765e+12  \n13                                 accounting-analytics  1.452301e+12  \n14                                        musicsbigbang           NaN  \n15                               solid-waste-management  1.456157e+12  \n16                                           ccss-math1           NaN  \n17                              music-and-social-action  1.456120e+12  \n18                                             protools  1.455312e+12  \n19                               gte-sustainable-cities  1.453148e+12  \n20                                         epidemiology  1.412124e+12  \n21                             mechanics-of-materials-1  1.452548e+12  \n22                                      zhichang-suyang  1.439324e+12  \n23                                         optimization           NaN  \n24                                     configuringworld           NaN  \n25                                       probabilites-2  1.454955e+12  \n26                              advanced-seo-strategies  1.453242e+12  \n27                                               dsalgo           NaN  \n28                                            calculo-4  1.440013e+12  \n29                                      plato-dialogues  1.454456e+12  \n...                                                 ...           ...  \n1795                            innovative-entrepreneur  1.447695e+12  \n1796  effective-communication-in-the-globalised-work...  1.453244e+12  \n1797                                  interactivepython           NaN  \n1798                                        immigration           NaN  \n1799                            redes-sociales-proyecto  1.454100e+12  \n1800                               jianzhu-zixun-jianmo  1.439575e+12  \n1801                               howtostartabusiness5  1.453246e+12  \n1802                                        teachstats1           NaN  \n1803                               global-warming-model  1.454978e+12  \n1804                                sheng-wu-xin-xi-xue  1.429055e+12  \n1805          becoming-part-of-the-globalised-workplace  1.453244e+12  \n1806                                         acoustics2           NaN  \n1807                                      statreasoning           NaN  \n1808                 java-programming-arrays-lists-data  1.447453e+12  \n1809                 getting-started-with-essay-writing  1.445279e+12  \n1810                    healthcare-marketplace-capstone  1.453239e+12  \n1811                                                gbv           NaN  \n1812                              competitivestrategyzh  1.414714e+12  \n1813                         negocios-internacionales-2  1.453484e+12  \n1814                                       artofthemooc           NaN  \n1815                             job-interview-capstone  1.453242e+12  \n1816                                      votingfairdiv           NaN  \n1817                              learning-how-to-learn  1.423689e+12  \n1818                                           coaching           NaN  \n1819                                             atc21s           NaN  \n1820                                            analyze           NaN  \n1821                       preserving-cultural-heritage  1.455925e+12  \n1822                                       parasitology           NaN  \n1823                                       androidpart2           NaN  \n1824                                            kennedy  1.413345e+12  \n\n[1825 rows x 9 columns] is not JSON serializable"
     ]
    }
   ],
   "source": [
    "with open('data.txt', 'w') as outfile:\n",
    "    json.dump(coursera, outfile)\n"
   ]
  },
  {
   "cell_type": "code",
   "execution_count": null,
   "metadata": {
    "collapsed": true
   },
   "outputs": [],
   "source": []
  }
 ],
 "metadata": {
  "kernelspec": {
   "display_name": "Python 3",
   "language": "python",
   "name": "python3"
  },
  "language_info": {
   "codemirror_mode": {
    "name": "ipython",
    "version": 3
   },
   "file_extension": ".py",
   "mimetype": "text/x-python",
   "name": "python",
   "nbconvert_exporter": "python",
   "pygments_lexer": "ipython3",
   "version": "3.4.3"
  }
 },
 "nbformat": 4,
 "nbformat_minor": 0
}
